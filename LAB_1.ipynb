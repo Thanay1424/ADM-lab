{
  "nbformat": 4,
  "nbformat_minor": 0,
  "metadata": {
    "colab": {
      "provenance": [],
      "authorship_tag": "ABX9TyMJaVsmE2BWg75S7tlcYaRD",
      "include_colab_link": true
    },
    "kernelspec": {
      "name": "python3",
      "display_name": "Python 3"
    },
    "language_info": {
      "name": "python"
    }
  },
  "cells": [
    {
      "cell_type": "markdown",
      "metadata": {
        "id": "view-in-github",
        "colab_type": "text"
      },
      "source": [
        "<a href=\"https://colab.research.google.com/github/Thanay1424/ADM-lab/blob/main/LAB_1.ipynb\" target=\"_parent\"><img src=\"https://colab.research.google.com/assets/colab-badge.svg\" alt=\"Open In Colab\"/></a>"
      ]
    },
    {
      "cell_type": "code",
      "execution_count": 5,
      "metadata": {
        "id": "Nm6rxNYu1Oae"
      },
      "outputs": [],
      "source": [
        "import pandas as pd"
      ]
    },
    {
      "cell_type": "code",
      "source": [
        "df= pd.read_csv('/content/heart.csv')"
      ],
      "metadata": {
        "id": "-ZHsEglb5Whp"
      },
      "execution_count": 6,
      "outputs": []
    },
    {
      "cell_type": "code",
      "source": [
        "df"
      ],
      "metadata": {
        "id": "imovZZQu5NAa"
      },
      "execution_count": null,
      "outputs": []
    },
    {
      "cell_type": "code",
      "source": [
        "df.isna() #false- no null value, true- null value present"
      ],
      "metadata": {
        "id": "Ogx9wQqo6enC"
      },
      "execution_count": null,
      "outputs": []
    },
    {
      "cell_type": "code",
      "source": [
        "df.isna().sum() #count of null values"
      ],
      "metadata": {
        "id": "GuR2SJim7Cf6"
      },
      "execution_count": null,
      "outputs": []
    },
    {
      "cell_type": "code",
      "source": [
        "df2=pd.read_csv('/content/titanic.csv')\n",
        "df2"
      ],
      "metadata": {
        "id": "W7eFzFWu7Kxx"
      },
      "execution_count": null,
      "outputs": []
    },
    {
      "cell_type": "code",
      "source": [
        "df2.isna()"
      ],
      "metadata": {
        "id": "1ynCAlFC8MQ4"
      },
      "execution_count": null,
      "outputs": []
    },
    {
      "cell_type": "code",
      "source": [
        "df2.isna().sum()"
      ],
      "metadata": {
        "id": "7CQazLWj78cS"
      },
      "execution_count": null,
      "outputs": []
    },
    {
      "cell_type": "code",
      "source": [
        "df2['Age'] #will return all the values of that particular column"
      ],
      "metadata": {
        "id": "tqnE3Vht8KxS"
      },
      "execution_count": null,
      "outputs": []
    },
    {
      "cell_type": "code",
      "source": [
        "df2['Age'].mean()"
      ],
      "metadata": {
        "id": "Ws2DJXOb9Szq"
      },
      "execution_count": null,
      "outputs": []
    },
    {
      "cell_type": "code",
      "source": [
        "df2['Age'].mode()"
      ],
      "metadata": {
        "id": "GS8JPdQY92nh"
      },
      "execution_count": null,
      "outputs": []
    },
    {
      "cell_type": "code",
      "source": [
        "df2['Age'].median()"
      ],
      "metadata": {
        "id": "JST3htqE965Y"
      },
      "execution_count": null,
      "outputs": []
    },
    {
      "cell_type": "code",
      "source": [
        "df2[\"Age\"].fillna(df2['Age'].median(),inplace=True) #fill up null values"
      ],
      "metadata": {
        "id": "Ddlv3Iac9_rI"
      },
      "execution_count": null,
      "outputs": []
    },
    {
      "cell_type": "code",
      "source": [
        "df2[\"Age\"].isna().sum()"
      ],
      "metadata": {
        "id": "JnKPfGmz_G-x"
      },
      "execution_count": null,
      "outputs": []
    },
    {
      "cell_type": "code",
      "source": [
        "df2[\"Fare\"]"
      ],
      "metadata": {
        "id": "N53rQNUaA3dC"
      },
      "execution_count": null,
      "outputs": []
    },
    {
      "cell_type": "code",
      "source": [
        "df2[\"Fare\"].min()"
      ],
      "metadata": {
        "id": "L0iCv9-XEogQ"
      },
      "execution_count": null,
      "outputs": []
    },
    {
      "cell_type": "code",
      "source": [
        "df2[\"Fare\"].max()"
      ],
      "metadata": {
        "id": "-7-0Uz7hEdyB"
      },
      "execution_count": null,
      "outputs": []
    },
    {
      "cell_type": "code",
      "source": [
        "df2[\"Fare\"]=(df2[\"Fare\"]-df2[\"Fare\"].min())//(df2[\"Fare\"].max()-df2[\"Fare\"].min())"
      ],
      "metadata": {
        "id": "eWTXyhOwEyMZ"
      },
      "execution_count": 41,
      "outputs": []
    },
    {
      "cell_type": "code",
      "source": [
        "df2[\"Fare\"]=df2[\"Fare\"]"
      ],
      "metadata": {
        "id": "LI8WmKGtGpVZ"
      },
      "execution_count": 39,
      "outputs": []
    },
    {
      "cell_type": "code",
      "source": [
        "df2[\"Fare\"].unique()"
      ],
      "metadata": {
        "id": "-Ukl2Ep0F2mD"
      },
      "execution_count": null,
      "outputs": []
    },
    {
      "cell_type": "code",
      "source": [
        "df2[\"Fare\"].value_counts()"
      ],
      "metadata": {
        "id": "mFehVxnHF6Ba"
      },
      "execution_count": null,
      "outputs": []
    },
    {
      "cell_type": "code",
      "source": [],
      "metadata": {
        "id": "HJMTBoRSHmwr"
      },
      "execution_count": null,
      "outputs": []
    }
  ]
}